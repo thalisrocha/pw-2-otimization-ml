{
  "cells": [
    {
      "cell_type": "markdown",
      "metadata": {
        "id": "view-in-github",
        "colab_type": "text"
      },
      "source": [
        "<a href=\"https://colab.research.google.com/github/thalisrocha/pw-2-otimization-ml/blob/main/Computer_Lab_02_SDTSIA211.ipynb\" target=\"_parent\"><img src=\"https://colab.research.google.com/assets/colab-badge.svg\" alt=\"Open In Colab\"/></a>"
      ]
    },
    {
      "cell_type": "markdown",
      "source": [
        " # <center> **SD-TSIA 211 Computer Lab** <center/>\n",
        "# <center> Digit recognition <center/>\n",
        "\n",
        "\n",
        " <center> SANDRINI GUARACHO, Rafael <center/>\n",
        "  <center> ROCHA PESTANA, Thalis <center/>"
      ],
      "metadata": {
        "id": "IG1nsglwhqzd"
      },
      "id": "IG1nsglwhqzd"
    },
    {
      "cell_type": "markdown",
      "source": [
        "# Libraries import and data load"
      ],
      "metadata": {
        "id": "DGv0fd3Ch-R9"
      },
      "id": "DGv0fd3Ch-R9"
    },
    {
      "cell_type": "code",
      "execution_count": null,
      "id": "149938de",
      "metadata": {
        "id": "149938de"
      },
      "outputs": [],
      "source": [
        "import numpy as np\n",
        "import tensorflow as tf\n",
        "from tensorflow import keras\n",
        "from tensorflow.keras import layers\n",
        "from random import *\n",
        "import matplotlib.pyplot as plt"
      ]
    },
    {
      "cell_type": "code",
      "execution_count": null,
      "id": "773c1396",
      "metadata": {
        "colab": {
          "base_uri": "https://localhost:8080/"
        },
        "id": "773c1396",
        "outputId": "7b4eefd8-c7ce-422d-fd78-b02a3f267318"
      },
      "outputs": [
        {
          "output_type": "stream",
          "name": "stdout",
          "text": [
            "Downloading data from https://storage.googleapis.com/tensorflow/tf-keras-datasets/mnist.npz\n",
            "11490434/11490434 [==============================] - 0s 0us/step\n",
            "5\n"
          ]
        },
        {
          "output_type": "execute_result",
          "data": {
            "text/plain": [
              "<matplotlib.image.AxesImage at 0x7f6fe7df6c40>"
            ]
          },
          "metadata": {},
          "execution_count": 2
        },
        {
          "output_type": "display_data",
          "data": {
            "text/plain": [
              "<Figure size 432x288 with 1 Axes>"
            ],
            "image/png": "[encoded data removed]"
          },
          "metadata": {
            "needs_background": "light"
          }
        }
      ],
      "source": [
        "train_data, test_data = tf.keras.datasets.mnist.load_data(path=\"mnist.npz\")\n",
        "x_train = train_data[0].reshape(-1,784).astype(float) / 255\n",
        "y_train = train_data[1]\n",
        "print(y_train[0])\n",
        "plt.imshow(train_data[0][0], cmap='gray')"
      ]
    },
    {
      "cell_type": "code",
      "source": [
        "print(y_train[0])\n",
        "plt.imshow(train_data[0][0], cmap='gray')"
      ],
      "metadata": {
        "colab": {
          "base_uri": "https://localhost:8080/"
        },
        "id": "ur9x5xtEt1X7",
        "outputId": "255d3098-69db-455e-a6ec-56c0127db682"
      },
      "id": "ur9x5xtEt1X7",
      "execution_count": null,
      "outputs": [
        {
          "output_type": "stream",
          "name": "stdout",
          "text": [
            "5\n"
          ]
        },
        {
          "output_type": "execute_result",
          "data": {
            "text/plain": [
              "<matplotlib.image.AxesImage at 0x7f6fe78d1d30>"
            ]
          },
          "metadata": {},
          "execution_count": 3
        },
        {
          "output_type": "display_data",
          "data": {
            "text/plain": [
              "<Figure size 432x288 with 1 Axes>"
            ],
            "image/png": "[encoded data removed]"
          },
          "metadata": {
            "needs_background": "light"
          }
        }
      ]
    },
    {
      "cell_type": "markdown",
      "source": [
        "# 4 - Model"
      ],
      "metadata": {
        "id": "5Rn_eg-uiJJk"
      },
      "id": "5Rn_eg-uiJJk"
    },
    {
      "cell_type": "code",
      "execution_count": null,
      "id": "4b521b78",
      "metadata": {
        "colab": {
          "base_uri": "https://localhost:8080/"
        },
        "id": "4b521b78",
        "outputId": "1dc62abc-15b0-451a-bc1a-f64ac91a5df1"
      },
      "outputs": [
        {
          "output_type": "stream",
          "name": "stdout",
          "text": [
            "Model: \"mnist_model\"\n",
            "_________________________________________________________________\n",
            " Layer (type)                Output Shape              Param #   \n",
            "=================================================================\n",
            " digits (InputLayer)         [(None, 784)]             0         \n",
            "                                                                 \n",
            " dense_1 (Dense)             (None, 32)                25120     \n",
            "                                                                 \n",
            " dense_2 (Dense)             (None, 32)                1056      \n",
            "                                                                 \n",
            " predictions (Dense)         (None, 10)                330       \n",
            "                                                                 \n",
            "=================================================================\n",
            "Total params: 26,506\n",
            "Trainable params: 26,506\n",
            "Non-trainable params: 0\n",
            "_________________________________________________________________\n"
          ]
        }
      ],
      "source": [
        "# source: https://keras.io/guides/training_with_built_in_methods/\n",
        "\n",
        "inputs = keras.Input(shape=(784,), name=\"digits\")\n",
        "x = layers.Dense(32, activation=\"relu\", name=\"dense_1\")(inputs)\n",
        "x = layers.Dense(32, activation=\"relu\", name=\"dense_2\")(x)\n",
        "outputs = layers.Dense(10, activation=None, name=\"predictions\")(x)\n",
        "model = keras.Model(inputs=inputs, outputs=outputs, name=\"mnist_model\")\n",
        "loss = keras.losses.SparseCategoricalCrossentropy(from_logits=True)\n",
        "model.summary()"
      ]
    },
    {
      "cell_type": "markdown",
      "source": [
        "As we can see, the model has 26506 total params"
      ],
      "metadata": {
        "id": "utdNX6RgXmV-"
      },
      "id": "utdNX6RgXmV-"
    },
    {
      "cell_type": "code",
      "execution_count": null,
      "id": "b18b6bdb",
      "metadata": {
        "colab": {
          "base_uri": "https://localhost:8080/"
        },
        "id": "b18b6bdb",
        "outputId": "bb31995c-82a5-4f3e-aa18-e763841e75ed"
      },
      "outputs": [
        {
          "output_type": "execute_result",
          "data": {
            "text/plain": [
              "array([8, 3, 1, 3, 8, 3, 5, 3, 8, 8, 3, 1, 1, 8, 8, 8, 8, 1, 8, 8, 8, 1,\n",
              "       8, 1, 1, 1, 8, 3, 8, 8, 8, 3, 8, 7, 8, 1, 8, 8, 5, 8, 8, 3, 7, 8,\n",
              "       1, 8, 8, 1, 8, 3, 8, 3, 8, 1, 8, 3, 3, 1, 8, 1, 8, 4, 3, 3, 3, 3,\n",
              "       3, 3, 3, 3, 8, 8, 8, 8, 8, 1, 1, 3, 8, 7, 8, 3, 1, 3, 8, 3, 3, 7,\n",
              "       8, 8, 8, 8, 1, 3, 3, 8, 7, 3, 8, 8])"
            ]
          },
          "metadata": {},
          "execution_count": 28
        }
      ],
      "source": [
        "# untrained model\n",
        "logits = model(x_train)\n",
        "np.argmax(logits, 1)[0:100]"
      ]
    },
    {
      "cell_type": "code",
      "execution_count": null,
      "id": "35d74f67",
      "metadata": {
        "colab": {
          "base_uri": "https://localhost:8080/"
        },
        "id": "35d74f67",
        "outputId": "032163e6-6154-470b-9124-342b0c70cfb6"
      },
      "outputs": [
        {
          "output_type": "execute_result",
          "data": {
            "text/plain": [
              "array([5, 0, 4, 1, 9, 2, 1, 3, 1, 4, 3, 5, 3, 6, 1, 7, 2, 8, 6, 9, 4, 0,\n",
              "       9, 1, 1, 2, 4, 3, 2, 7, 3, 8, 6, 9, 0, 5, 6, 0, 7, 6, 1, 8, 7, 9,\n",
              "       3, 9, 8, 5, 9, 3, 3, 0, 7, 4, 9, 8, 0, 9, 4, 1, 4, 4, 6, 0, 4, 5,\n",
              "       6, 1, 0, 0, 1, 7, 1, 6, 3, 0, 2, 1, 1, 7, 9, 0, 2, 6, 7, 8, 3, 9,\n",
              "       0, 4, 6, 7, 4, 6, 8, 0, 7, 8, 3, 1], dtype=uint8)"
            ]
          },
          "metadata": {},
          "execution_count": 29
        }
      ],
      "source": [
        "# what we would like to get\n",
        "y_train[0:100]"
      ]
    },
    {
      "cell_type": "markdown",
      "source": [
        "# 5 - Stochastic gradient descent"
      ],
      "metadata": {
        "id": "FLgcZaadiTIF"
      },
      "id": "FLgcZaadiTIF"
    },
    {
      "cell_type": "code",
      "execution_count": null,
      "id": "4c0073e2",
      "metadata": {
        "id": "4c0073e2"
      },
      "outputs": [],
      "source": [
        "## Update weights function\n",
        "def update_weights(model, update, gama):\n",
        "    new_weights = model.trainable_weights.copy()\n",
        "    for i in range(len(new_weights)):\n",
        "        new_weights[i] = new_weights[i] - (gama*update[i])\n",
        "    model.set_weights(new_weights)"
      ]
    },
    {
      "cell_type": "code",
      "execution_count": null,
      "id": "c5a9ead7",
      "metadata": {
        "scrolled": true,
        "id": "c5a9ead7"
      },
      "outputs": [],
      "source": [
        "# Stochastic gradient algorithm\n",
        "def sgd(model, loss, x_train, y_train, K):\n",
        "  gama = 1/np.sqrt(K) #step size (as we know the K number of iterations, we can use this constant step size)\n",
        "  lossValues = [] #array to append our loss values, that will be calculated with the whole DB every 1000 iterations\n",
        "  for i in range(K):\n",
        "    if (i%1000 == 0):\n",
        "      logits = model(x_train)\n",
        "      loss_value = loss(y_train, logits)\n",
        "      lossValues.append(loss_value)\n",
        "    e = randint(0,K-1) #picking a random position for our 1-batch sgd\n",
        "    x_train_batch = x_train[e].reshape(-1,784)\n",
        "    y_train_batch = y_train[e]\n",
        "\n",
        "    with tf.GradientTape() as tape:\n",
        "            logits = model(x_train_batch)\n",
        "            loss_value = loss(y_train_batch, logits)\n",
        "\n",
        "    grad = tape.gradient(loss_value, model.trainable_weights)\n",
        "    update_weights(model, grad, gama)\n",
        "  return lossValues"
      ]
    },
    {
      "cell_type": "code",
      "source": [
        "lossValues = sgd(model, loss, x_train, y_train, 60000)\n",
        "x = np.linspace(0,60000,60)\n",
        "plt.grid()\n",
        "plt.semilogy(x,lossValues)"
      ],
      "metadata": {
        "colab": {
          "base_uri": "https://localhost:8080/",
          "height": 282
        },
        "id": "Dp5dGx94yPm9",
        "outputId": "c9b49bae-d4c8-4e8c-8849-48b2319bcad8"
      },
      "id": "Dp5dGx94yPm9",
      "execution_count": null,
      "outputs": [
        {
          "output_type": "execute_result",
          "data": {
            "text/plain": [
              "[<matplotlib.lines.Line2D at 0x7f6fe29e68b0>]"
            ]
          },
          "metadata": {},
          "execution_count": 9
        },
        {
          "output_type": "display_data",
          "data": {
            "text/plain": [
              "<Figure size 432x288 with 1 Axes>"
            ],
            "image/png": "[encoded data removed]"
          },
          "metadata": {
            "needs_background": "light"
          }
        }
      ]
    },
    {
      "cell_type": "markdown",
      "source": [
        "# 6 - Empirical risk minimization\n"
      ],
      "metadata": {
        "id": "pF4yT9x-iYW_"
      },
      "id": "pF4yT9x-iYW_"
    },
    {
      "cell_type": "code",
      "source": [
        "def gst(batch, epochs, model, loss, x_train, y_train, K):\n",
        "  losses = []\n",
        "  gama = 1/np.sqrt(K) #step size (same explanation)\n",
        "  for j in range(epochs):\n",
        "    for i in range(K//batch):\n",
        "      x_train_batch = x_train[i*batch:(i+1)*batch].reshape(-1,784)\n",
        "      y_train_batch = y_train[i*batch:(i+1)*batch]\n",
        "\n",
        "      with tf.GradientTape() as tape:\n",
        "            logits = model(x_train_batch)\n",
        "            loss_value = loss(y_train_batch, logits)\n",
        "\n",
        "      grad = tape.gradient(loss_value, model.trainable_weights)\n",
        "      update_weights(model, grad, gama)\n",
        "\n",
        "      e = np.random.randint(0, 5999, 1000)\n",
        "\n",
        "      logits = model(x_train[e])\n",
        "      loss_value = loss(y_train[e], logits).numpy()\n",
        "      losses.append(loss_value)\n",
        "\n",
        "  return losses"
      ],
      "metadata": {
        "id": "3alEuX_PidtK"
      },
      "id": "3alEuX_PidtK",
      "execution_count": null,
      "outputs": []
    },
    {
      "cell_type": "markdown",
      "source": [
        "Now we will run our algorithm for different batch and epoch sizes (We need to reload the Model in the 4th cell):"
      ],
      "metadata": {
        "id": "U1ASdPZwZzOn"
      },
      "id": "U1ASdPZwZzOn"
    },
    {
      "cell_type": "code",
      "source": [
        "losses = gst(1, 1, model, loss, x_train, y_train, 60000)\n",
        "x = np.linspace(0,60000,len(losses))\n",
        "plt.grid()\n",
        "plt.semilogy(x,losses)"
      ],
      "metadata": {
        "id": "Dq0wNp3kYN_C",
        "colab": {
          "base_uri": "https://localhost:8080/",
          "height": 282
        },
        "outputId": "5912e6c3-1f42-4e1a-f66b-17bddc3d7fdb"
      },
      "id": "Dq0wNp3kYN_C",
      "execution_count": null,
      "outputs": [
        {
          "output_type": "execute_result",
          "data": {
            "text/plain": [
              "[<matplotlib.lines.Line2D at 0x7f6fe1c4af10>]"
            ]
          },
          "metadata": {},
          "execution_count": 20
        },
        {
          "output_type": "display_data",
          "data": {
            "text/plain": [
              "<Figure size 432x288 with 1 Axes>"
            ],
            "image/png": "[encoded data removed]"
          },
          "metadata": {
            "needs_background": "light"
          }
        }
      ]
    },
    {
      "cell_type": "code",
      "source": [
        "losses = gst(15, 1, model, loss, x_train, y_train, 60000)\n",
        "x = np.linspace(0,60000,len(losses))\n",
        "plt.grid()\n",
        "plt.semilogy(x,losses)"
      ],
      "metadata": {
        "id": "JmAuOyhFYOVr",
        "colab": {
          "base_uri": "https://localhost:8080/",
          "height": 282
        },
        "outputId": "201bd199-f777-45c7-f600-4342d65dd57a"
      },
      "id": "JmAuOyhFYOVr",
      "execution_count": null,
      "outputs": [
        {
          "output_type": "execute_result",
          "data": {
            "text/plain": [
              "[<matplotlib.lines.Line2D at 0x7f6fe1a60a90>]"
            ]
          },
          "metadata": {},
          "execution_count": 26
        },
        {
          "output_type": "display_data",
          "data": {
            "text/plain": [
              "<Figure size 432x288 with 1 Axes>"
            ],
            "image/png": "[encoded data removed]"
          },
          "metadata": {
            "needs_background": "light"
          }
        }
      ]
    },
    {
      "cell_type": "code",
      "source": [
        "losses = gst(64, 10, model, loss, x_train, y_train, 60000)\n",
        "x = np.linspace(0,60000,len(losses))\n",
        "plt.grid()\n",
        "plt.semilogy(x,losses)"
      ],
      "metadata": {
        "id": "CCFFXY0JYOfF",
        "colab": {
          "base_uri": "https://localhost:8080/",
          "height": 282
        },
        "outputId": "9e71fe59-a2b2-4e4d-8ee2-a1aae5677081"
      },
      "id": "CCFFXY0JYOfF",
      "execution_count": null,
      "outputs": [
        {
          "output_type": "execute_result",
          "data": {
            "text/plain": [
              "[<matplotlib.lines.Line2D at 0x7f6fe19428e0>]"
            ]
          },
          "metadata": {},
          "execution_count": 30
        },
        {
          "output_type": "display_data",
          "data": {
            "text/plain": [
              "<Figure size 432x288 with 1 Axes>"
            ],
            "image/png": "[encoded data removed]"
          },
          "metadata": {
            "needs_background": "light"
          }
        }
      ]
    },
    {
      "cell_type": "markdown",
      "source": [
        "This scheme can provide a faster and more efficient process than stochastic gradient descent because not all training data is applied. However, it needs a reasonable number of batchs in order to reduce the oscillation in the individual component of the gradient."
      ],
      "metadata": {
        "id": "TpuKFnXbgcYh"
      },
      "id": "TpuKFnXbgcYh"
    }
  ],
  "metadata": {
    "kernelspec": {
      "display_name": "Python 3",
      "language": "python",
      "name": "python3"
    },
    "language_info": {
      "codemirror_mode": {
        "name": "ipython",
        "version": 3
      },
      "file_extension": ".py",
      "mimetype": "text/x-python",
      "name": "python",
      "nbconvert_exporter": "python",
      "pygments_lexer": "ipython3",
      "version": "3.8.8"
    },
    "colab": {
      "provenance": [],
      "collapsed_sections": [
        "DGv0fd3Ch-R9",
        "5Rn_eg-uiJJk",
        "FLgcZaadiTIF",
        "pF4yT9x-iYW_"
      ],
      "include_colab_link": true
    }
  },
  "nbformat": 4,
  "nbformat_minor": 5
}